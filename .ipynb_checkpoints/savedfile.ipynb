{
 "cells": [
  {
   "cell_type": "markdown",
   "metadata": {},
   "source": [
    "# PyCity Schools Analysis\n",
    "\n",
    "* As a whole, schools with higher budgets, did not yield better test results. By contrast, schools with higher spending per student actually (\\$645-675) underperformed compared to schools with smaller budgets (<\\$585 per student).\n",
    "\n",
    "* As a whole, smaller and medium sized schools dramatically out-performed large sized schools on passing math performances (89-91% passing vs 67%).\n",
    "\n",
    "* As a whole, charter schools out-performed the public district schools across all metrics. However, more analysis will be required to glean if the effect is due to school practices or the fact that charter schools tend to serve smaller student populations per school. \n",
    "---"
   ]
  },
  {
   "cell_type": "markdown",
   "metadata": {},
   "source": [
    "### Note\n",
    "* Instructions have been included for each segment. You do not have to follow them exactly, but they are included to help you think through the steps."
   ]
  },
  {
   "cell_type": "code",
   "execution_count": 50,
   "metadata": {},
   "outputs": [],
   "source": [
    "# Dependencies and Setup\n",
    "import pandas as pd\n",
    "import numpy as np\n",
    "\n",
    "# File to Load (Remember to Change These)\n",
    "school_data_to_load = \"Resources/schools_complete.csv\"\n",
    "student_data_to_load = \"Resources/students_complete.csv\"\n",
    "\n",
    "# Read School and Student Data File and store into Pandas Data Frames\n",
    "school_data = pd.read_csv(school_data_to_load)\n",
    "\n",
    "student_data = pd.read_csv(student_data_to_load)\n",
    "\n",
    "# Combine the data into a single dataset\n",
    "school_data_complete = pd.merge(student_data, school_data, how=\"left\", on=[\"school_name\", \"school_name\"])\n"
   ]
  },
  {
   "cell_type": "markdown",
   "metadata": {},
   "source": [
    "## District Summary\n",
    "\n",
    "* Calculate the total number of schools\n",
    "\n",
    "* Calculate the total number of students\n",
    "\n",
    "* Calculate the total budget\n",
    "\n",
    "* Calculate the average math score \n",
    "\n",
    "* Calculate the average reading score\n",
    "\n",
    "* Calculate the overall passing rate (overall average score), i.e. (avg. math score + avg. reading score)/2\n",
    "\n",
    "* Calculate the percentage of students with a passing math score (70 or greater)\n",
    "\n",
    "* Calculate the percentage of students with a passing reading score (70 or greater)\n",
    "\n",
    "* Create a dataframe to hold the above results\n",
    "\n",
    "* Optional: give the displayed data cleaner formatting"
   ]
  },
  {
   "cell_type": "code",
   "execution_count": 37,
   "metadata": {
    "scrolled": false
   },
   "outputs": [
    {
     "data": {
      "text/html": [
       "<div>\n",
       "<style scoped>\n",
       "    .dataframe tbody tr th:only-of-type {\n",
       "        vertical-align: middle;\n",
       "    }\n",
       "\n",
       "    .dataframe tbody tr th {\n",
       "        vertical-align: top;\n",
       "    }\n",
       "\n",
       "    .dataframe thead th {\n",
       "        text-align: right;\n",
       "    }\n",
       "</style>\n",
       "<table border=\"1\" class=\"dataframe\">\n",
       "  <thead>\n",
       "    <tr style=\"text-align: right;\">\n",
       "      <th></th>\n",
       "      <th>type</th>\n",
       "      <th>budget</th>\n",
       "    </tr>\n",
       "  </thead>\n",
       "  <tbody>\n",
       "    <tr>\n",
       "      <th>0</th>\n",
       "      <td>Charter</td>\n",
       "      <td>7301505</td>\n",
       "    </tr>\n",
       "    <tr>\n",
       "      <th>1</th>\n",
       "      <td>District</td>\n",
       "      <td>17347923</td>\n",
       "    </tr>\n",
       "  </tbody>\n",
       "</table>\n",
       "</div>"
      ],
      "text/plain": [
       "       type    budget\n",
       "0   Charter   7301505\n",
       "1  District  17347923"
      ]
     },
     "execution_count": 37,
     "metadata": {},
     "output_type": "execute_result"
    }
   ],
   "source": [
    "##Calculate the Total School Budget by District\n",
    "school_data_groupbytype = school_data.groupby(['type'])\n",
    "final_df = school_data_groupbytype['budget'].sum()\n",
    "final_df = final_df.to_frame()\n",
    "final_df.reset_index()"
   ]
  },
  {
   "cell_type": "code",
   "execution_count": 38,
   "metadata": {
    "scrolled": false
   },
   "outputs": [
    {
     "data": {
      "text/html": [
       "<div>\n",
       "<style scoped>\n",
       "    .dataframe tbody tr th:only-of-type {\n",
       "        vertical-align: middle;\n",
       "    }\n",
       "\n",
       "    .dataframe tbody tr th {\n",
       "        vertical-align: top;\n",
       "    }\n",
       "\n",
       "    .dataframe thead th {\n",
       "        text-align: right;\n",
       "    }\n",
       "</style>\n",
       "<table border=\"1\" class=\"dataframe\">\n",
       "  <thead>\n",
       "    <tr style=\"text-align: right;\">\n",
       "      <th></th>\n",
       "      <th>budget</th>\n",
       "      <th>School_count</th>\n",
       "    </tr>\n",
       "    <tr>\n",
       "      <th>type</th>\n",
       "      <th></th>\n",
       "      <th></th>\n",
       "    </tr>\n",
       "  </thead>\n",
       "  <tbody>\n",
       "    <tr>\n",
       "      <th>Charter</th>\n",
       "      <td>7301505</td>\n",
       "      <td>8</td>\n",
       "    </tr>\n",
       "    <tr>\n",
       "      <th>District</th>\n",
       "      <td>17347923</td>\n",
       "      <td>7</td>\n",
       "    </tr>\n",
       "  </tbody>\n",
       "</table>\n",
       "</div>"
      ],
      "text/plain": [
       "            budget  School_count\n",
       "type                            \n",
       "Charter    7301505             8\n",
       "District  17347923             7"
      ]
     },
     "execution_count": 38,
     "metadata": {},
     "output_type": "execute_result"
    }
   ],
   "source": [
    "##Calculate the total Number of Schools by District and add it to the final df\n",
    "dataf = school_data_groupbytype['School ID'].count()\n",
    "final_df = final_df.assign(School_count=dataf.values)\n",
    "final_df.reset_index()\n",
    "final_df"
   ]
  },
  {
   "cell_type": "code",
   "execution_count": 39,
   "metadata": {
    "scrolled": false
   },
   "outputs": [
    {
     "data": {
      "text/html": [
       "<div>\n",
       "<style scoped>\n",
       "    .dataframe tbody tr th:only-of-type {\n",
       "        vertical-align: middle;\n",
       "    }\n",
       "\n",
       "    .dataframe tbody tr th {\n",
       "        vertical-align: top;\n",
       "    }\n",
       "\n",
       "    .dataframe thead th {\n",
       "        text-align: right;\n",
       "    }\n",
       "</style>\n",
       "<table border=\"1\" class=\"dataframe\">\n",
       "  <thead>\n",
       "    <tr style=\"text-align: right;\">\n",
       "      <th></th>\n",
       "      <th>budget</th>\n",
       "      <th>School_count</th>\n",
       "      <th>math_scores</th>\n",
       "      <th>reading_scores</th>\n",
       "    </tr>\n",
       "    <tr>\n",
       "      <th>type</th>\n",
       "      <th></th>\n",
       "      <th></th>\n",
       "      <th></th>\n",
       "      <th></th>\n",
       "    </tr>\n",
       "  </thead>\n",
       "  <tbody>\n",
       "    <tr>\n",
       "      <th>Charter</th>\n",
       "      <td>7301505</td>\n",
       "      <td>8</td>\n",
       "      <td>83.406183</td>\n",
       "      <td>83.902821</td>\n",
       "    </tr>\n",
       "    <tr>\n",
       "      <th>District</th>\n",
       "      <td>17347923</td>\n",
       "      <td>7</td>\n",
       "      <td>76.987026</td>\n",
       "      <td>80.962485</td>\n",
       "    </tr>\n",
       "  </tbody>\n",
       "</table>\n",
       "</div>"
      ],
      "text/plain": [
       "            budget  School_count  math_scores  reading_scores\n",
       "type                                                         \n",
       "Charter    7301505             8    83.406183       83.902821\n",
       "District  17347923             7    76.987026       80.962485"
      ]
     },
     "execution_count": 39,
     "metadata": {},
     "output_type": "execute_result"
    }
   ],
   "source": [
    "##Calculate the math mean scores\n",
    "school_data_complete_grpbydistricttype = school_data_complete.groupby([\"type\"])\n",
    "scores_df = school_data_complete_grpbydistricttype['math_score'].mean()\n",
    "final_df = final_df.assign(math_scores = scores_df.values)                                                 \n",
    "scores_df = school_data_complete_grpbydistricttype['reading_score'].mean()\n",
    "final_df = final_df.assign(reading_scores = scores_df.values)\n",
    "final_df"
   ]
  },
  {
   "cell_type": "code",
   "execution_count": 40,
   "metadata": {
    "scrolled": true
   },
   "outputs": [
    {
     "data": {
      "text/html": [
       "<div>\n",
       "<style scoped>\n",
       "    .dataframe tbody tr th:only-of-type {\n",
       "        vertical-align: middle;\n",
       "    }\n",
       "\n",
       "    .dataframe tbody tr th {\n",
       "        vertical-align: top;\n",
       "    }\n",
       "\n",
       "    .dataframe thead th {\n",
       "        text-align: right;\n",
       "    }\n",
       "</style>\n",
       "<table border=\"1\" class=\"dataframe\">\n",
       "  <thead>\n",
       "    <tr style=\"text-align: right;\">\n",
       "      <th></th>\n",
       "      <th>budget</th>\n",
       "      <th>School_count</th>\n",
       "      <th>math_scores</th>\n",
       "      <th>reading_scores</th>\n",
       "      <th>OverallAvg_Scores</th>\n",
       "    </tr>\n",
       "    <tr>\n",
       "      <th>type</th>\n",
       "      <th></th>\n",
       "      <th></th>\n",
       "      <th></th>\n",
       "      <th></th>\n",
       "      <th></th>\n",
       "    </tr>\n",
       "  </thead>\n",
       "  <tbody>\n",
       "    <tr>\n",
       "      <th>Charter</th>\n",
       "      <td>7301505</td>\n",
       "      <td>8</td>\n",
       "      <td>83.406183</td>\n",
       "      <td>83.902821</td>\n",
       "      <td>83.654502</td>\n",
       "    </tr>\n",
       "    <tr>\n",
       "      <th>District</th>\n",
       "      <td>17347923</td>\n",
       "      <td>7</td>\n",
       "      <td>76.987026</td>\n",
       "      <td>80.962485</td>\n",
       "      <td>78.974755</td>\n",
       "    </tr>\n",
       "  </tbody>\n",
       "</table>\n",
       "</div>"
      ],
      "text/plain": [
       "            budget  School_count  math_scores  reading_scores  \\\n",
       "type                                                            \n",
       "Charter    7301505             8    83.406183       83.902821   \n",
       "District  17347923             7    76.987026       80.962485   \n",
       "\n",
       "          OverallAvg_Scores  \n",
       "type                         \n",
       "Charter           83.654502  \n",
       "District          78.974755  "
      ]
     },
     "execution_count": 40,
     "metadata": {},
     "output_type": "execute_result"
    }
   ],
   "source": [
    "##Overall Avg Scores\n",
    "final_df['OverallAvg_Scores']= (final_df['math_scores'] + final_df['reading_scores'])/2\n",
    "final_df"
   ]
  },
  {
   "cell_type": "code",
   "execution_count": 41,
   "metadata": {
    "scrolled": true
   },
   "outputs": [
    {
     "data": {
      "text/html": [
       "<div>\n",
       "<style scoped>\n",
       "    .dataframe tbody tr th:only-of-type {\n",
       "        vertical-align: middle;\n",
       "    }\n",
       "\n",
       "    .dataframe tbody tr th {\n",
       "        vertical-align: top;\n",
       "    }\n",
       "\n",
       "    .dataframe thead th {\n",
       "        text-align: right;\n",
       "    }\n",
       "</style>\n",
       "<table border=\"1\" class=\"dataframe\">\n",
       "  <thead>\n",
       "    <tr style=\"text-align: right;\">\n",
       "      <th></th>\n",
       "      <th>budget</th>\n",
       "      <th>School_count</th>\n",
       "      <th>math_scores</th>\n",
       "      <th>reading_scores</th>\n",
       "      <th>OverallAvg_Scores</th>\n",
       "      <th>Student_Pop</th>\n",
       "    </tr>\n",
       "    <tr>\n",
       "      <th>type</th>\n",
       "      <th></th>\n",
       "      <th></th>\n",
       "      <th></th>\n",
       "      <th></th>\n",
       "      <th></th>\n",
       "      <th></th>\n",
       "    </tr>\n",
       "  </thead>\n",
       "  <tbody>\n",
       "    <tr>\n",
       "      <th>Charter</th>\n",
       "      <td>7301505</td>\n",
       "      <td>8</td>\n",
       "      <td>83.406183</td>\n",
       "      <td>83.902821</td>\n",
       "      <td>83.654502</td>\n",
       "      <td>12194</td>\n",
       "    </tr>\n",
       "    <tr>\n",
       "      <th>District</th>\n",
       "      <td>17347923</td>\n",
       "      <td>7</td>\n",
       "      <td>76.987026</td>\n",
       "      <td>80.962485</td>\n",
       "      <td>78.974755</td>\n",
       "      <td>26976</td>\n",
       "    </tr>\n",
       "  </tbody>\n",
       "</table>\n",
       "</div>"
      ],
      "text/plain": [
       "            budget  School_count  math_scores  reading_scores  \\\n",
       "type                                                            \n",
       "Charter    7301505             8    83.406183       83.902821   \n",
       "District  17347923             7    76.987026       80.962485   \n",
       "\n",
       "          OverallAvg_Scores  Student_Pop  \n",
       "type                                      \n",
       "Charter           83.654502        12194  \n",
       "District          78.974755        26976  "
      ]
     },
     "execution_count": 41,
     "metadata": {},
     "output_type": "execute_result"
    }
   ],
   "source": [
    "##Student Count \n",
    "#print(final_df)\n",
    "final_df = final_df.assign(Student_Pop =school_data_complete_grpbydistricttype[\"size\"].count()) \n",
    "final_df"
   ]
  },
  {
   "cell_type": "code",
   "execution_count": 42,
   "metadata": {
    "scrolled": false
   },
   "outputs": [
    {
     "data": {
      "text/html": [
       "<div>\n",
       "<style scoped>\n",
       "    .dataframe tbody tr th:only-of-type {\n",
       "        vertical-align: middle;\n",
       "    }\n",
       "\n",
       "    .dataframe tbody tr th {\n",
       "        vertical-align: top;\n",
       "    }\n",
       "\n",
       "    .dataframe thead th {\n",
       "        text-align: right;\n",
       "    }\n",
       "</style>\n",
       "<table border=\"1\" class=\"dataframe\">\n",
       "  <thead>\n",
       "    <tr style=\"text-align: right;\">\n",
       "      <th></th>\n",
       "      <th>budget</th>\n",
       "      <th>School_count</th>\n",
       "      <th>math_scores</th>\n",
       "      <th>reading_scores</th>\n",
       "      <th>OverallAvg_Scores</th>\n",
       "      <th>Student_Pop</th>\n",
       "      <th>MathPass%</th>\n",
       "    </tr>\n",
       "    <tr>\n",
       "      <th>type</th>\n",
       "      <th></th>\n",
       "      <th></th>\n",
       "      <th></th>\n",
       "      <th></th>\n",
       "      <th></th>\n",
       "      <th></th>\n",
       "      <th></th>\n",
       "    </tr>\n",
       "  </thead>\n",
       "  <tbody>\n",
       "    <tr>\n",
       "      <th>Charter</th>\n",
       "      <td>7301505</td>\n",
       "      <td>8</td>\n",
       "      <td>83.406183</td>\n",
       "      <td>83.902821</td>\n",
       "      <td>83.654502</td>\n",
       "      <td>12194</td>\n",
       "      <td>93.70</td>\n",
       "    </tr>\n",
       "    <tr>\n",
       "      <th>District</th>\n",
       "      <td>17347923</td>\n",
       "      <td>7</td>\n",
       "      <td>76.987026</td>\n",
       "      <td>80.962485</td>\n",
       "      <td>78.974755</td>\n",
       "      <td>26976</td>\n",
       "      <td>66.52</td>\n",
       "    </tr>\n",
       "  </tbody>\n",
       "</table>\n",
       "</div>"
      ],
      "text/plain": [
       "            budget  School_count  math_scores  reading_scores  \\\n",
       "type                                                            \n",
       "Charter    7301505             8    83.406183       83.902821   \n",
       "District  17347923             7    76.987026       80.962485   \n",
       "\n",
       "          OverallAvg_Scores  Student_Pop  MathPass%  \n",
       "type                                                 \n",
       "Charter           83.654502        12194      93.70  \n",
       "District          78.974755        26976      66.52  "
      ]
     },
     "execution_count": 42,
     "metadata": {},
     "output_type": "execute_result"
    }
   ],
   "source": [
    "## Math Pass Percentage for Charter and District Students\n",
    "MathPassCnt_C= school_data_complete[((school_data_complete.loc[:, 'math_score'] > 69) &\\\n",
    "                                     (school_data_complete.loc[:,'type'] == 'Charter'))]\n",
    "MathPassCnt_C= MathPassCnt_C['Student ID'].count()\n",
    "totalcnt = final_df.loc['Charter','Student_Pop']\n",
    "CharterMathPassPerct = round(100* (MathPassCnt_C/totalcnt),2)\n",
    "MathPassCnt_D= school_data_complete[((school_data_complete.loc[:, 'math_score'] > 69) &\\\n",
    "                                     (school_data_complete.loc[:,'type'] == 'District'))]\n",
    "MathPassCnt_D= MathPassCnt_D['Student ID'].count()\n",
    "totalcnt = final_df.loc['District','Student_Pop']\n",
    "DistrictMathPassPerct = round(100* (MathPassCnt_D/totalcnt),2)\n",
    "final_df['MathPass%'] = [CharterMathPassPerct,DistrictMathPassPerct]\n",
    "final_df"
   ]
  },
  {
   "cell_type": "code",
   "execution_count": 43,
   "metadata": {
    "scrolled": false
   },
   "outputs": [
    {
     "data": {
      "text/html": [
       "<style  type=\"text/css\" >\n",
       "    #T_87929458_4ae2_11e9_98e6_aced5cafbe45row0_col6 {\n",
       "            background-color:  yellow;\n",
       "        }    #T_87929458_4ae2_11e9_98e6_aced5cafbe45row0_col7 {\n",
       "            background-color:  yellow;\n",
       "        }</style>  \n",
       "<table id=\"T_87929458_4ae2_11e9_98e6_aced5cafbe45\" > \n",
       "<thead>    <tr> \n",
       "        <th class=\"blank level0\" ></th> \n",
       "        <th class=\"col_heading level0 col0\" >budget</th> \n",
       "        <th class=\"col_heading level0 col1\" >School_count</th> \n",
       "        <th class=\"col_heading level0 col2\" >math_scores</th> \n",
       "        <th class=\"col_heading level0 col3\" >reading_scores</th> \n",
       "        <th class=\"col_heading level0 col4\" >OverallAvg_Scores</th> \n",
       "        <th class=\"col_heading level0 col5\" >Student_Pop</th> \n",
       "        <th class=\"col_heading level0 col6\" >MathPass%</th> \n",
       "        <th class=\"col_heading level0 col7\" >ReadPass%</th> \n",
       "    </tr>    <tr> \n",
       "        <th class=\"index_name level0\" >type</th> \n",
       "        <th class=\"blank\" ></th> \n",
       "        <th class=\"blank\" ></th> \n",
       "        <th class=\"blank\" ></th> \n",
       "        <th class=\"blank\" ></th> \n",
       "        <th class=\"blank\" ></th> \n",
       "        <th class=\"blank\" ></th> \n",
       "        <th class=\"blank\" ></th> \n",
       "        <th class=\"blank\" ></th> \n",
       "    </tr></thead> \n",
       "<tbody>    <tr> \n",
       "        <th id=\"T_87929458_4ae2_11e9_98e6_aced5cafbe45level0_row0\" class=\"row_heading level0 row0\" >Charter</th> \n",
       "        <td id=\"T_87929458_4ae2_11e9_98e6_aced5cafbe45row0_col0\" class=\"data row0 col0\" >7301505</td> \n",
       "        <td id=\"T_87929458_4ae2_11e9_98e6_aced5cafbe45row0_col1\" class=\"data row0 col1\" >8</td> \n",
       "        <td id=\"T_87929458_4ae2_11e9_98e6_aced5cafbe45row0_col2\" class=\"data row0 col2\" >83.41</td> \n",
       "        <td id=\"T_87929458_4ae2_11e9_98e6_aced5cafbe45row0_col3\" class=\"data row0 col3\" >83.9</td> \n",
       "        <td id=\"T_87929458_4ae2_11e9_98e6_aced5cafbe45row0_col4\" class=\"data row0 col4\" >83.65</td> \n",
       "        <td id=\"T_87929458_4ae2_11e9_98e6_aced5cafbe45row0_col5\" class=\"data row0 col5\" >12194</td> \n",
       "        <td id=\"T_87929458_4ae2_11e9_98e6_aced5cafbe45row0_col6\" class=\"data row0 col6\" >93.7</td> \n",
       "        <td id=\"T_87929458_4ae2_11e9_98e6_aced5cafbe45row0_col7\" class=\"data row0 col7\" >96.65</td> \n",
       "    </tr>    <tr> \n",
       "        <th id=\"T_87929458_4ae2_11e9_98e6_aced5cafbe45level0_row1\" class=\"row_heading level0 row1\" >District</th> \n",
       "        <td id=\"T_87929458_4ae2_11e9_98e6_aced5cafbe45row1_col0\" class=\"data row1 col0\" >17347923</td> \n",
       "        <td id=\"T_87929458_4ae2_11e9_98e6_aced5cafbe45row1_col1\" class=\"data row1 col1\" >7</td> \n",
       "        <td id=\"T_87929458_4ae2_11e9_98e6_aced5cafbe45row1_col2\" class=\"data row1 col2\" >76.99</td> \n",
       "        <td id=\"T_87929458_4ae2_11e9_98e6_aced5cafbe45row1_col3\" class=\"data row1 col3\" >80.96</td> \n",
       "        <td id=\"T_87929458_4ae2_11e9_98e6_aced5cafbe45row1_col4\" class=\"data row1 col4\" >78.97</td> \n",
       "        <td id=\"T_87929458_4ae2_11e9_98e6_aced5cafbe45row1_col5\" class=\"data row1 col5\" >26976</td> \n",
       "        <td id=\"T_87929458_4ae2_11e9_98e6_aced5cafbe45row1_col6\" class=\"data row1 col6\" >66.52</td> \n",
       "        <td id=\"T_87929458_4ae2_11e9_98e6_aced5cafbe45row1_col7\" class=\"data row1 col7\" >80.91</td> \n",
       "    </tr></tbody> \n",
       "</table> "
      ],
      "text/plain": [
       "<pandas.io.formats.style.Styler at 0x1dc0bda89e8>"
      ]
     },
     "execution_count": 43,
     "metadata": {},
     "output_type": "execute_result"
    }
   ],
   "source": [
    "## Reading Pass Percentage for Charter and District Students\n",
    "ReadingPassCnt_C= school_data_complete[((school_data_complete.loc[:, 'reading_score'] > 69) & (school_data_complete.loc[:,'type'] \\\n",
    "                                                                          == 'Charter'))]\n",
    "ReadingPassCnt_C= ReadingPassCnt_C['Student ID'].count()\n",
    "totalcnt = final_df.loc['Charter','Student_Pop']\n",
    "CharterReadingPassPerct = round(100* (ReadingPassCnt_C/totalcnt),2)\n",
    "\n",
    "ReadingPassCnt_D= school_data_complete[((school_data_complete.loc[:, 'reading_score'] > 69) & (school_data_complete.loc[:,'type'] \\\n",
    "                                                                          == 'District'))]\n",
    "ReadingPassCnt_D= ReadingPassCnt_D['Student ID'].count()\n",
    "totalcnt = final_df.loc['District','Student_Pop']\n",
    "DistrictReadingPassPerct = round(100* (ReadingPassCnt_D/totalcnt),2)\n",
    "DistrictReadingPassPerct\n",
    "final_df['ReadPass%'] = [CharterReadingPassPerct,DistrictReadingPassPerct]\n",
    "final_df.round(2).style.highlight_max(subset=['MathPass%','ReadPass%'], color='yellow', axis=0)"
   ]
  },
  {
   "cell_type": "markdown",
   "metadata": {},
   "source": [
    "## School Summary"
   ]
  },
  {
   "cell_type": "code",
   "execution_count": 52,
   "metadata": {
    "scrolled": false
   },
   "outputs": [
    {
     "data": {
      "text/html": [
       "<div>\n",
       "<style scoped>\n",
       "    .dataframe tbody tr th:only-of-type {\n",
       "        vertical-align: middle;\n",
       "    }\n",
       "\n",
       "    .dataframe tbody tr th {\n",
       "        vertical-align: top;\n",
       "    }\n",
       "\n",
       "    .dataframe thead th {\n",
       "        text-align: right;\n",
       "    }\n",
       "</style>\n",
       "<table border=\"1\" class=\"dataframe\">\n",
       "  <thead>\n",
       "    <tr style=\"text-align: right;\">\n",
       "      <th></th>\n",
       "      <th>Student ID</th>\n",
       "      <th>student_name</th>\n",
       "      <th>gender</th>\n",
       "      <th>grade</th>\n",
       "      <th>school_name</th>\n",
       "      <th>reading_score</th>\n",
       "      <th>math_score</th>\n",
       "      <th>School ID</th>\n",
       "      <th>type</th>\n",
       "      <th>size</th>\n",
       "      <th>budget</th>\n",
       "    </tr>\n",
       "  </thead>\n",
       "  <tbody>\n",
       "    <tr>\n",
       "      <th>39165</th>\n",
       "      <td>39165</td>\n",
       "      <td>Donna Howard</td>\n",
       "      <td>F</td>\n",
       "      <td>12th</td>\n",
       "      <td>Thomas High School</td>\n",
       "      <td>99</td>\n",
       "      <td>90</td>\n",
       "      <td>14</td>\n",
       "      <td>Charter</td>\n",
       "      <td>1635</td>\n",
       "      <td>1043130</td>\n",
       "    </tr>\n",
       "    <tr>\n",
       "      <th>39166</th>\n",
       "      <td>39166</td>\n",
       "      <td>Dawn Bell</td>\n",
       "      <td>F</td>\n",
       "      <td>10th</td>\n",
       "      <td>Thomas High School</td>\n",
       "      <td>95</td>\n",
       "      <td>70</td>\n",
       "      <td>14</td>\n",
       "      <td>Charter</td>\n",
       "      <td>1635</td>\n",
       "      <td>1043130</td>\n",
       "    </tr>\n",
       "    <tr>\n",
       "      <th>39167</th>\n",
       "      <td>39167</td>\n",
       "      <td>Rebecca Tanner</td>\n",
       "      <td>F</td>\n",
       "      <td>9th</td>\n",
       "      <td>Thomas High School</td>\n",
       "      <td>73</td>\n",
       "      <td>84</td>\n",
       "      <td>14</td>\n",
       "      <td>Charter</td>\n",
       "      <td>1635</td>\n",
       "      <td>1043130</td>\n",
       "    </tr>\n",
       "    <tr>\n",
       "      <th>39168</th>\n",
       "      <td>39168</td>\n",
       "      <td>Desiree Kidd</td>\n",
       "      <td>F</td>\n",
       "      <td>10th</td>\n",
       "      <td>Thomas High School</td>\n",
       "      <td>99</td>\n",
       "      <td>90</td>\n",
       "      <td>14</td>\n",
       "      <td>Charter</td>\n",
       "      <td>1635</td>\n",
       "      <td>1043130</td>\n",
       "    </tr>\n",
       "    <tr>\n",
       "      <th>39169</th>\n",
       "      <td>39169</td>\n",
       "      <td>Carolyn Jackson</td>\n",
       "      <td>F</td>\n",
       "      <td>11th</td>\n",
       "      <td>Thomas High School</td>\n",
       "      <td>95</td>\n",
       "      <td>75</td>\n",
       "      <td>14</td>\n",
       "      <td>Charter</td>\n",
       "      <td>1635</td>\n",
       "      <td>1043130</td>\n",
       "    </tr>\n",
       "  </tbody>\n",
       "</table>\n",
       "</div>"
      ],
      "text/plain": [
       "       Student ID     student_name gender grade         school_name  \\\n",
       "39165       39165     Donna Howard      F  12th  Thomas High School   \n",
       "39166       39166        Dawn Bell      F  10th  Thomas High School   \n",
       "39167       39167   Rebecca Tanner      F   9th  Thomas High School   \n",
       "39168       39168     Desiree Kidd      F  10th  Thomas High School   \n",
       "39169       39169  Carolyn Jackson      F  11th  Thomas High School   \n",
       "\n",
       "       reading_score  math_score  School ID     type  size   budget  \n",
       "39165             99          90         14  Charter  1635  1043130  \n",
       "39166             95          70         14  Charter  1635  1043130  \n",
       "39167             73          84         14  Charter  1635  1043130  \n",
       "39168             99          90         14  Charter  1635  1043130  \n",
       "39169             95          75         14  Charter  1635  1043130  "
      ]
     },
     "execution_count": 52,
     "metadata": {},
     "output_type": "execute_result"
    }
   ],
   "source": [
    "school_data_complete.tail()\n"
   ]
  },
  {
   "cell_type": "markdown",
   "metadata": {},
   "source": [
    "* Create an overview table that summarizes key metrics about each school, including:\n",
    "  * School Name\n",
    "  * School Type\n",
    "  * Total Students\n",
    "  * Total School Budget\n",
    "  * Per Student Budget\n",
    "  * Average Math Score\n",
    "  * Average Reading Score\n",
    "  * % Passing Math\n",
    "  * % Passing Reading\n",
    "  * Overall Passing Rate (Average of the above two)\n",
    "  \n",
    "* Create a dataframe to hold the above results"
   ]
  },
  {
   "cell_type": "code",
   "execution_count": 105,
   "metadata": {
    "scrolled": true
   },
   "outputs": [
    {
     "data": {
      "text/plain": [
       "type      school_name          \n",
       "Charter   Cabrera High School      83.975780\n",
       "          Griffin High School      83.816757\n",
       "          Holden High School       83.814988\n",
       "          Pena High School         84.044699\n",
       "          Shelton High School      83.725724\n",
       "          Thomas High School       83.848930\n",
       "          Wilson High School       83.989488\n",
       "          Wright High School       83.955000\n",
       "District  Bailey High School       81.033963\n",
       "          Figueroa High School     81.158020\n",
       "          Ford High School         80.746258\n",
       "          Hernandez High School    80.934412\n",
       "          Huang High School        81.182722\n",
       "          Johnson High School      80.966394\n",
       "          Rodriguez High School    80.744686\n",
       "Name: reading_score, dtype: float64"
      ]
     },
     "execution_count": 105,
     "metadata": {},
     "output_type": "execute_result"
    }
   ],
   "source": [
    "#school_data\n",
    "schsummary_df = school_data_complete.groupby([\"type\",\"school_name\"])\n",
    "df2= schsummary_df['math_score'].mean()\n",
    "df2 = schsummary_df['reading_score'].mean()\n",
    "df2 #schsummary_df\n",
    "# schsummary_df= schsummary_df[\"Student ID\"].count().reset_index()\n",
    "# schsummary_df.rename(columns={'Student ID': 'Total Students'}, inplace= True)\n",
    "# schsummary_df = pd.merge(schsummary_df, school_data, how=\"left\", on=[\"school_name\", \"school_name\"])\n",
    "# schsummary_df['Per Student Budget']= schsummary_df['budget'] /schsummary_df['Total Students'] \n",
    "# schsummary_df.rename(columns={'type_x': 'type'}, inplace= True)\n",
    "# schsummary_df.drop(schsummary_df.columns[[3,4,5]], axis=1, inplace=True)\n",
    "\n",
    "#schsummary_df"
   ]
  },
  {
   "cell_type": "markdown",
   "metadata": {},
   "source": [
    "## Top Performing Schools (By Passing Rate)"
   ]
  },
  {
   "cell_type": "markdown",
   "metadata": {},
   "source": [
    "* Sort and display the top five schools in overall passing rate"
   ]
  },
  {
   "cell_type": "code",
   "execution_count": null,
   "metadata": {},
   "outputs": [],
   "source": []
  },
  {
   "cell_type": "markdown",
   "metadata": {},
   "source": [
    "## Bottom Performing Schools (By Passing Rate)"
   ]
  },
  {
   "cell_type": "markdown",
   "metadata": {},
   "source": [
    "* Sort and display the five worst-performing schools"
   ]
  },
  {
   "cell_type": "code",
   "execution_count": null,
   "metadata": {},
   "outputs": [],
   "source": []
  },
  {
   "cell_type": "markdown",
   "metadata": {
    "collapsed": true
   },
   "source": [
    "## Math Scores by Grade"
   ]
  },
  {
   "cell_type": "markdown",
   "metadata": {},
   "source": [
    "* Create a table that lists the average Reading Score for students of each grade level (9th, 10th, 11th, 12th) at each school.\n",
    "\n",
    "  * Create a pandas series for each grade. Hint: use a conditional statement.\n",
    "  \n",
    "  * Group each series by school\n",
    "  \n",
    "  * Combine the series into a dataframe\n",
    "  \n",
    "  * Optional: give the displayed data cleaner formatting"
   ]
  },
  {
   "cell_type": "code",
   "execution_count": null,
   "metadata": {},
   "outputs": [],
   "source": []
  },
  {
   "cell_type": "markdown",
   "metadata": {},
   "source": [
    "## Reading Score by Grade "
   ]
  },
  {
   "cell_type": "markdown",
   "metadata": {},
   "source": [
    "* Perform the same operations as above for reading scores"
   ]
  },
  {
   "cell_type": "code",
   "execution_count": null,
   "metadata": {},
   "outputs": [],
   "source": []
  },
  {
   "cell_type": "markdown",
   "metadata": {},
   "source": [
    "## Scores by School Spending"
   ]
  },
  {
   "cell_type": "markdown",
   "metadata": {},
   "source": [
    "* Create a table that breaks down school performances based on average Spending Ranges (Per Student). Use 4 reasonable bins to group school spending. Include in the table each of the following:\n",
    "  * Average Math Score\n",
    "  * Average Reading Score\n",
    "  * % Passing Math\n",
    "  * % Passing Reading\n",
    "  * Overall Passing Rate (Average of the above two)"
   ]
  },
  {
   "cell_type": "code",
   "execution_count": 46,
   "metadata": {},
   "outputs": [],
   "source": [
    "# Sample bins. Feel free to create your own bins.\n",
    "spending_bins = [0, 585, 615, 645, 675]\n",
    "group_names = [\"<$585\", \"$585-615\", \"$615-645\", \"$645-675\"]"
   ]
  },
  {
   "cell_type": "code",
   "execution_count": null,
   "metadata": {},
   "outputs": [],
   "source": []
  },
  {
   "cell_type": "markdown",
   "metadata": {},
   "source": [
    "## Scores by School Size"
   ]
  },
  {
   "cell_type": "markdown",
   "metadata": {},
   "source": [
    "* Perform the same operations as above, based on school size."
   ]
  },
  {
   "cell_type": "code",
   "execution_count": 47,
   "metadata": {},
   "outputs": [],
   "source": [
    "# Sample bins. Feel free to create your own bins.\n",
    "size_bins = [0, 1000, 2000, 5000]\n",
    "group_names = [\"Small (<1000)\", \"Medium (1000-2000)\", \"Large (2000-5000)\"]"
   ]
  },
  {
   "cell_type": "code",
   "execution_count": null,
   "metadata": {
    "scrolled": true
   },
   "outputs": [],
   "source": []
  },
  {
   "cell_type": "markdown",
   "metadata": {},
   "source": [
    "## Scores by School Type"
   ]
  },
  {
   "cell_type": "markdown",
   "metadata": {},
   "source": [
    "* Perform the same operations as above, based on school type."
   ]
  },
  {
   "cell_type": "code",
   "execution_count": null,
   "metadata": {},
   "outputs": [],
   "source": []
  },
  {
   "cell_type": "code",
   "execution_count": null,
   "metadata": {},
   "outputs": [],
   "source": []
  }
 ],
 "metadata": {
  "anaconda-cloud": {},
  "kernel_info": {
   "name": "python3"
  },
  "kernelspec": {
   "display_name": "Python 3",
   "language": "python",
   "name": "python3"
  },
  "language_info": {
   "codemirror_mode": {
    "name": "ipython",
    "version": 3
   },
   "file_extension": ".py",
   "mimetype": "text/x-python",
   "name": "python",
   "nbconvert_exporter": "python",
   "pygments_lexer": "ipython3",
   "version": "3.7.1"
  },
  "nteract": {
   "version": "0.8.4"
  }
 },
 "nbformat": 4,
 "nbformat_minor": 1
}
